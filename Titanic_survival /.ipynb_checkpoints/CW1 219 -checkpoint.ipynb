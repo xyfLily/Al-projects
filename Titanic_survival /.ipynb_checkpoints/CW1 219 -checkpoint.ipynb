{
 "cells": [
  {
   "cell_type": "markdown",
   "metadata": {},
   "source": [
    "# Check list "
   ]
  },
  {
   "cell_type": "markdown",
   "metadata": {},
   "source": [
    "###### Step 1.Loading data (impelement successfully)\n",
    "###### Step 2.Training  (impelement successfully)\n",
    "    Step 2.1 code for training (implement successfully)\n",
    "    Step 2.2 successful training (implement successfully)\n",
    "###### Step 3.module Evaluation  (impelement successfully)\n",
    "    Step 3.1explain your experimental design (implement successfully)\n",
    "    Step 3.2: document your evaluation results (implement successfully)\n",
    "###### Extra  (implement successfully)"
   ]
  },
  {
   "cell_type": "markdown",
   "metadata": {},
   "source": [
    "# Step 1 . Loading  data "
   ]
  },
  {
   "cell_type": "markdown",
   "metadata": {},
   "source": [
    "## 1.1 Importing the libraries"
   ]
  },
  {
   "cell_type": "code",
   "execution_count": 200,
   "metadata": {},
   "outputs": [],
   "source": [
    "#Numpy \n",
    "import numpy as np\n",
    "\n",
    "#Datafram operations\n",
    "import pandas as pd\n",
    "\n",
    "#Data visualization\n",
    "from matplotlib import pyplot as plt\n",
    "import seaborn as sns\n",
    "\n",
    "#Common Model Helpers\n",
    "from sklearn.preprocessing import LabelEncoder\n",
    "from sklearn.preprocessing import StandardScaler\n",
    "\n",
    "#Models\n",
    "from sklearn.neighbors import KNeighborsClassifier #KNN"
   ]
  },
  {
   "cell_type": "markdown",
   "metadata": {},
   "source": [
    "## 1.2 Importing dataset"
   ]
  },
  {
   "cell_type": "code",
   "execution_count": 201,
   "metadata": {},
   "outputs": [
    {
     "name": "stderr",
     "output_type": "stream",
     "text": [
      "/anaconda3/lib/python3.6/site-packages/pandas/core/frame.py:6201: FutureWarning: Sorting because non-concatenation axis is not aligned. A future version\n",
      "of pandas will change to not sort by default.\n",
      "\n",
      "To accept the future behavior, pass 'sort=True'.\n",
      "\n",
      "To retain the current behavior and silence the warning, pass sort=False\n",
      "\n",
      "  sort=sort)\n"
     ]
    }
   ],
   "source": [
    "train_df = pd.read_csv('train.csv')\n",
    "test_df = pd.read_csv('test.csv')\n",
    "data = train_df.append(test_df)# The entire data = train + test\n"
   ]
  },
  {
   "cell_type": "markdown",
   "metadata": {},
   "source": [
    "## 1.3 Feature Engineering "
   ]
  },
  {
   "cell_type": "code",
   "execution_count": 202,
   "metadata": {},
   "outputs": [
    {
     "data": {
      "text/plain": [
       "Age             263\n",
       "Cabin          1014\n",
       "Embarked          2\n",
       "Fare              1\n",
       "Name              0\n",
       "Parch             0\n",
       "PassengerId       0\n",
       "Pclass            0\n",
       "Sex               0\n",
       "SibSp             0\n",
       "Survived        418\n",
       "Ticket            0\n",
       "dtype: int64"
      ]
     },
     "execution_count": 202,
     "metadata": {},
     "output_type": "execute_result"
    }
   ],
   "source": [
    "#Calculate the missing data\n",
    "data = data.fillna(np.nan)\n",
    "data.isnull().sum()"
   ]
  },
  {
   "cell_type": "markdown",
   "metadata": {},
   "source": [
    "let's drop some columns which don't have many missing values"
   ]
  },
  {
   "cell_type": "code",
   "execution_count": 203,
   "metadata": {},
   "outputs": [],
   "source": [
    "drop_elements = ['Name', 'PassengerId', 'SibSp', 'Parch', 'Ticket', 'Cabin',\n",
    "               'Embarked']\n",
    "train_df.drop(drop_elements, axis = 1, inplace = True)\n",
    "test_df.drop(drop_elements, axis = 1, inplace = True)"
   ]
  },
  {
   "cell_type": "markdown",
   "metadata": {},
   "source": [
    "### 1.3.1  Processing Fare "
   ]
  },
  {
   "cell_type": "code",
   "execution_count": 204,
   "metadata": {},
   "outputs": [
    {
     "data": {
      "text/html": [
       "<div>\n",
       "<style scoped>\n",
       "    .dataframe tbody tr th:only-of-type {\n",
       "        vertical-align: middle;\n",
       "    }\n",
       "\n",
       "    .dataframe tbody tr th {\n",
       "        vertical-align: top;\n",
       "    }\n",
       "\n",
       "    .dataframe thead th {\n",
       "        text-align: right;\n",
       "    }\n",
       "</style>\n",
       "<table border=\"1\" class=\"dataframe\">\n",
       "  <thead>\n",
       "    <tr style=\"text-align: right;\">\n",
       "      <th></th>\n",
       "      <th>Age</th>\n",
       "      <th>Cabin</th>\n",
       "      <th>Embarked</th>\n",
       "      <th>Fare</th>\n",
       "      <th>Name</th>\n",
       "      <th>Parch</th>\n",
       "      <th>PassengerId</th>\n",
       "      <th>Pclass</th>\n",
       "      <th>Sex</th>\n",
       "      <th>SibSp</th>\n",
       "      <th>Survived</th>\n",
       "      <th>Ticket</th>\n",
       "    </tr>\n",
       "  </thead>\n",
       "  <tbody>\n",
       "    <tr>\n",
       "      <th>152</th>\n",
       "      <td>60.5</td>\n",
       "      <td>NaN</td>\n",
       "      <td>S</td>\n",
       "      <td>NaN</td>\n",
       "      <td>Storey, Mr. Thomas</td>\n",
       "      <td>0</td>\n",
       "      <td>1044</td>\n",
       "      <td>3</td>\n",
       "      <td>male</td>\n",
       "      <td>0</td>\n",
       "      <td>NaN</td>\n",
       "      <td>3701</td>\n",
       "    </tr>\n",
       "  </tbody>\n",
       "</table>\n",
       "</div>"
      ],
      "text/plain": [
       "      Age Cabin Embarked  Fare                Name  Parch  PassengerId  \\\n",
       "152  60.5   NaN        S   NaN  Storey, Mr. Thomas      0         1044   \n",
       "\n",
       "     Pclass   Sex  SibSp  Survived Ticket  \n",
       "152       3  male      0       NaN   3701  "
      ]
     },
     "execution_count": 204,
     "metadata": {},
     "output_type": "execute_result"
    }
   ],
   "source": [
    "data[data.Fare.isnull()]"
   ]
  },
  {
   "cell_type": "markdown",
   "metadata": {},
   "source": [
    "fill the missing fare value with the median, it will not change the distribution with only one value\n"
   ]
  },
  {
   "cell_type": "code",
   "execution_count": 205,
   "metadata": {},
   "outputs": [],
   "source": [
    "data['Fare'] = data['Fare'].fillna(train_df['Fare'].median())"
   ]
  },
  {
   "cell_type": "code",
   "execution_count": 206,
   "metadata": {},
   "outputs": [],
   "source": [
    "#Making Bins\n",
    "data['FareBin'] = pd.qcut(data['Fare'], 5)\n",
    "\n",
    "label = LabelEncoder()\n",
    "data['FareBin_Code'] = label.fit_transform(data['FareBin'])\n",
    "\n",
    "train_df['FareBin_Code'] = data['FareBin_Code'][:891]\n",
    "test_df['FareBin_Code'] = data['FareBin_Code'][891:]\n",
    "\n",
    "train_df.drop(['Fare'], 1, inplace=True)\n",
    "test_df.drop(['Fare'], 1, inplace=True)"
   ]
  },
  {
   "cell_type": "markdown",
   "metadata": {},
   "source": [
    "### 1.3.2 Processing titles"
   ]
  },
  {
   "cell_type": "code",
   "execution_count": 207,
   "metadata": {},
   "outputs": [
    {
     "data": {
      "image/png": "[encoded data removed]",
      "text/plain": [
       "<Figure size 576x432 with 1 Axes>"
      ]
     },
     "metadata": {},
     "output_type": "display_data"
    },
    {
     "data": {
      "text/plain": [
       "Mr          757\n",
       "Miss        260\n",
       "Mrs         197\n",
       "Master       61\n",
       "Rev           8\n",
       "Dr            8\n",
       "Col           4\n",
       "Ms            2\n",
       "Mlle          2\n",
       "Major         2\n",
       "Sir           1\n",
       "Mme           1\n",
       "Lady          1\n",
       "Capt          1\n",
       "Dona          1\n",
       "Jonkheer      1\n",
       "Don           1\n",
       "Countess      1\n",
       "Name: Title, dtype: int64"
      ]
     },
     "execution_count": 207,
     "metadata": {},
     "output_type": "execute_result"
    }
   ],
   "source": [
    "data['Title'] = data['Name']\n",
    "\n",
    "#extract title from name\n",
    "for name_string in data['Name']:\n",
    "    data['Title'] = data['Name'].str.extract('([A-Za-z]+)\\.', expand=True)\n",
    "\n",
    "#Distribution of title \n",
    "plt.figure(figsize = (8,6))\n",
    "sns.countplot(x = \"Title\", data = data)\n",
    "plt.xticks(rotation = '45')\n",
    "plt.show()\n",
    "\n",
    "data['Title'].value_counts()"
   ]
  },
  {
   "cell_type": "code",
   "execution_count": 208,
   "metadata": {},
   "outputs": [],
   "source": [
    "# replaing rare titles with more common ones\n",
    "title_changes = {'Mlle': 'Miss', 'Major': 'Mr', 'Col': 'Mr', 'Sir': 'Mr', 'Don': 'Mr', 'Mme': 'Miss',\n",
    "          'Jonkheer': 'Mr', 'Lady': 'Mrs', 'Capt': 'Mr', 'Countess': 'Mrs', 'Ms': 'Miss', 'Dona': 'Mrs'}\n",
    "\n",
    "data.replace({'Title':title_changes},inplace = True)\n",
    "titles = ['Dr','Master','Miss','Mr','Mrs','Rev']\n"
   ]
  },
  {
   "cell_type": "markdown",
   "metadata": {},
   "source": [
    "### 1.3.3 Processing Age"
   ]
  },
  {
   "cell_type": "code",
   "execution_count": 209,
   "metadata": {},
   "outputs": [
    {
     "name": "stdout",
     "output_type": "stream",
     "text": [
      "True\n"
     ]
    },
    {
     "data": {
      "image/png": "[encoded data removed]",
      "text/plain": [
       "<Figure size 432x288 with 1 Axes>"
      ]
     },
     "metadata": {},
     "output_type": "display_data"
    }
   ],
   "source": [
    "print(data['Age'].isnull().values.any())\n",
    "plt.scatter(data['Survived'], data['Age'])\n",
    "plt.ylabel(\"Age\") \n",
    "plt.xlabel(\"Survived\") \n",
    "plt.title(\"Age Distribution\")\n",
    "plt.show()"
   ]
  },
  {
   "cell_type": "code",
   "execution_count": 210,
   "metadata": {},
   "outputs": [],
   "source": [
    "for title in titles:\n",
    "    age_to_impute = data.groupby('Title')['Age'].median()[titles.index(title)]\n",
    "    data.loc[(data['Age'].isnull()) & (data['Title'] == title), 'Age'] = age_to_impute\n",
    "    \n",
    "# Substituting Age values in TRAIN_DF and TEST_DF:\n",
    "train_df['Age'] = data['Age'][:891]\n",
    "test_df['Age'] = data['Age'][891:]\n",
    "\n",
    "# Dropping Title feature\n",
    "data.drop('Title', axis = 1, inplace = True)"
   ]
  },
  {
   "cell_type": "code",
   "execution_count": 211,
   "metadata": {},
   "outputs": [],
   "source": [
    "data['AgeBin'] = pd.qcut(data['Age'], 4)\n",
    "\n",
    "label = LabelEncoder()\n",
    "data['AgeBin_Code'] = label.fit_transform(data['AgeBin'])\n",
    "\n",
    "train_df['AgeBin_Code'] = data['AgeBin_Code'][:891]\n",
    "test_df['AgeBin_Code'] = data['AgeBin_Code'][891:]\n",
    "\n",
    "train_df.drop(['Age'], 1, inplace=True)\n",
    "test_df.drop(['Age'], 1, inplace=True)"
   ]
  },
  {
   "cell_type": "markdown",
   "metadata": {},
   "source": [
    "### 1.3.4 Processing Family size"
   ]
  },
  {
   "cell_type": "code",
   "execution_count": 212,
   "metadata": {},
   "outputs": [],
   "source": [
    "#Adding family size a feature: \n",
    "data['Family_Size'] = data['Parch'] + data['SibSp']\n",
    "\n",
    "#Substituting age Values in Train_df and Test_df:\n",
    "train_df['Family_Size'] = data['Family_Size'][:891]\n",
    "test_df['Family_Size'] = data['Family_Size'][891:]"
   ]
  },
  {
   "cell_type": "markdown",
   "metadata": {},
   "source": [
    "### 1.3.5 Processing  Sex "
   ]
  },
  {
   "cell_type": "code",
   "execution_count": 213,
   "metadata": {},
   "outputs": [],
   "source": [
    "train_df['Sex'].replace(['male','female'],[0,1],inplace=True)\n",
    "test_df['Sex'].replace(['male','female'],[0,1],inplace=True)"
   ]
  },
  {
   "cell_type": "code",
   "execution_count": 214,
   "metadata": {},
   "outputs": [
    {
     "data": {
      "text/html": [
       "<div>\n",
       "<style scoped>\n",
       "    .dataframe tbody tr th:only-of-type {\n",
       "        vertical-align: middle;\n",
       "    }\n",
       "\n",
       "    .dataframe tbody tr th {\n",
       "        vertical-align: top;\n",
       "    }\n",
       "\n",
       "    .dataframe thead th {\n",
       "        text-align: right;\n",
       "    }\n",
       "</style>\n",
       "<table border=\"1\" class=\"dataframe\">\n",
       "  <thead>\n",
       "    <tr style=\"text-align: right;\">\n",
       "      <th></th>\n",
       "      <th>Survived</th>\n",
       "      <th>Pclass</th>\n",
       "      <th>Sex</th>\n",
       "      <th>FareBin_Code</th>\n",
       "      <th>AgeBin_Code</th>\n",
       "      <th>Family_Size</th>\n",
       "    </tr>\n",
       "  </thead>\n",
       "  <tbody>\n",
       "    <tr>\n",
       "      <th>0</th>\n",
       "      <td>0</td>\n",
       "      <td>3</td>\n",
       "      <td>0</td>\n",
       "      <td>0</td>\n",
       "      <td>0</td>\n",
       "      <td>1</td>\n",
       "    </tr>\n",
       "    <tr>\n",
       "      <th>1</th>\n",
       "      <td>1</td>\n",
       "      <td>1</td>\n",
       "      <td>1</td>\n",
       "      <td>4</td>\n",
       "      <td>3</td>\n",
       "      <td>1</td>\n",
       "    </tr>\n",
       "    <tr>\n",
       "      <th>2</th>\n",
       "      <td>1</td>\n",
       "      <td>3</td>\n",
       "      <td>1</td>\n",
       "      <td>1</td>\n",
       "      <td>1</td>\n",
       "      <td>0</td>\n",
       "    </tr>\n",
       "    <tr>\n",
       "      <th>3</th>\n",
       "      <td>1</td>\n",
       "      <td>1</td>\n",
       "      <td>1</td>\n",
       "      <td>4</td>\n",
       "      <td>2</td>\n",
       "      <td>1</td>\n",
       "    </tr>\n",
       "    <tr>\n",
       "      <th>4</th>\n",
       "      <td>0</td>\n",
       "      <td>3</td>\n",
       "      <td>0</td>\n",
       "      <td>1</td>\n",
       "      <td>2</td>\n",
       "      <td>0</td>\n",
       "    </tr>\n",
       "    <tr>\n",
       "      <th>5</th>\n",
       "      <td>0</td>\n",
       "      <td>3</td>\n",
       "      <td>0</td>\n",
       "      <td>1</td>\n",
       "      <td>1</td>\n",
       "      <td>0</td>\n",
       "    </tr>\n",
       "    <tr>\n",
       "      <th>6</th>\n",
       "      <td>0</td>\n",
       "      <td>1</td>\n",
       "      <td>0</td>\n",
       "      <td>4</td>\n",
       "      <td>3</td>\n",
       "      <td>0</td>\n",
       "    </tr>\n",
       "    <tr>\n",
       "      <th>7</th>\n",
       "      <td>0</td>\n",
       "      <td>3</td>\n",
       "      <td>0</td>\n",
       "      <td>2</td>\n",
       "      <td>0</td>\n",
       "      <td>4</td>\n",
       "    </tr>\n",
       "    <tr>\n",
       "      <th>8</th>\n",
       "      <td>1</td>\n",
       "      <td>3</td>\n",
       "      <td>1</td>\n",
       "      <td>2</td>\n",
       "      <td>1</td>\n",
       "      <td>2</td>\n",
       "    </tr>\n",
       "    <tr>\n",
       "      <th>9</th>\n",
       "      <td>1</td>\n",
       "      <td>2</td>\n",
       "      <td>1</td>\n",
       "      <td>3</td>\n",
       "      <td>0</td>\n",
       "      <td>1</td>\n",
       "    </tr>\n",
       "    <tr>\n",
       "      <th>10</th>\n",
       "      <td>1</td>\n",
       "      <td>3</td>\n",
       "      <td>1</td>\n",
       "      <td>2</td>\n",
       "      <td>0</td>\n",
       "      <td>2</td>\n",
       "    </tr>\n",
       "    <tr>\n",
       "      <th>11</th>\n",
       "      <td>1</td>\n",
       "      <td>1</td>\n",
       "      <td>1</td>\n",
       "      <td>3</td>\n",
       "      <td>3</td>\n",
       "      <td>0</td>\n",
       "    </tr>\n",
       "    <tr>\n",
       "      <th>12</th>\n",
       "      <td>0</td>\n",
       "      <td>3</td>\n",
       "      <td>0</td>\n",
       "      <td>1</td>\n",
       "      <td>0</td>\n",
       "      <td>0</td>\n",
       "    </tr>\n",
       "    <tr>\n",
       "      <th>13</th>\n",
       "      <td>0</td>\n",
       "      <td>3</td>\n",
       "      <td>0</td>\n",
       "      <td>3</td>\n",
       "      <td>3</td>\n",
       "      <td>6</td>\n",
       "    </tr>\n",
       "    <tr>\n",
       "      <th>14</th>\n",
       "      <td>0</td>\n",
       "      <td>3</td>\n",
       "      <td>1</td>\n",
       "      <td>0</td>\n",
       "      <td>0</td>\n",
       "      <td>0</td>\n",
       "    </tr>\n",
       "    <tr>\n",
       "      <th>15</th>\n",
       "      <td>1</td>\n",
       "      <td>2</td>\n",
       "      <td>1</td>\n",
       "      <td>2</td>\n",
       "      <td>3</td>\n",
       "      <td>0</td>\n",
       "    </tr>\n",
       "    <tr>\n",
       "      <th>16</th>\n",
       "      <td>0</td>\n",
       "      <td>3</td>\n",
       "      <td>0</td>\n",
       "      <td>3</td>\n",
       "      <td>0</td>\n",
       "      <td>5</td>\n",
       "    </tr>\n",
       "    <tr>\n",
       "      <th>17</th>\n",
       "      <td>1</td>\n",
       "      <td>2</td>\n",
       "      <td>0</td>\n",
       "      <td>2</td>\n",
       "      <td>1</td>\n",
       "      <td>0</td>\n",
       "    </tr>\n",
       "    <tr>\n",
       "      <th>18</th>\n",
       "      <td>0</td>\n",
       "      <td>3</td>\n",
       "      <td>1</td>\n",
       "      <td>2</td>\n",
       "      <td>2</td>\n",
       "      <td>1</td>\n",
       "    </tr>\n",
       "    <tr>\n",
       "      <th>19</th>\n",
       "      <td>1</td>\n",
       "      <td>3</td>\n",
       "      <td>1</td>\n",
       "      <td>0</td>\n",
       "      <td>2</td>\n",
       "      <td>0</td>\n",
       "    </tr>\n",
       "  </tbody>\n",
       "</table>\n",
       "</div>"
      ],
      "text/plain": [
       "    Survived  Pclass  Sex  FareBin_Code  AgeBin_Code  Family_Size\n",
       "0          0       3    0             0            0            1\n",
       "1          1       1    1             4            3            1\n",
       "2          1       3    1             1            1            0\n",
       "3          1       1    1             4            2            1\n",
       "4          0       3    0             1            2            0\n",
       "5          0       3    0             1            1            0\n",
       "6          0       1    0             4            3            0\n",
       "7          0       3    0             2            0            4\n",
       "8          1       3    1             2            1            2\n",
       "9          1       2    1             3            0            1\n",
       "10         1       3    1             2            0            2\n",
       "11         1       1    1             3            3            0\n",
       "12         0       3    0             1            0            0\n",
       "13         0       3    0             3            3            6\n",
       "14         0       3    1             0            0            0\n",
       "15         1       2    1             2            3            0\n",
       "16         0       3    0             3            0            5\n",
       "17         1       2    0             2            1            0\n",
       "18         0       3    1             2            2            1\n",
       "19         1       3    1             0            2            0"
      ]
     },
     "execution_count": 214,
     "metadata": {},
     "output_type": "execute_result"
    }
   ],
   "source": [
    "train_df.head(20)"
   ]
  },
  {
   "cell_type": "markdown",
   "metadata": {},
   "source": [
    "# Step 2 . Training"
   ]
  },
  {
   "cell_type": "markdown",
   "metadata": {},
   "source": [
    "## 2.1 code for training"
   ]
  },
  {
   "cell_type": "markdown",
   "metadata": {},
   "source": [
    "###  Feature scaling"
   ]
  },
  {
   "cell_type": "code",
   "execution_count": 215,
   "metadata": {},
   "outputs": [
    {
     "data": {
      "text/plain": [
       "StandardScaler(copy=True, with_mean=True, with_std=True)"
      ]
     },
     "execution_count": 215,
     "metadata": {},
     "output_type": "execute_result"
    }
   ],
   "source": [
    "from sklearn.preprocessing import StandardScaler\n",
    "scaler = StandardScaler()\n",
    "scaler.fit(train_df.drop('Survived', axis =1))"
   ]
  },
  {
   "cell_type": "code",
   "execution_count": 216,
   "metadata": {},
   "outputs": [],
   "source": [
    "scaled = scaler.transform(train_df.drop('Survived', axis =1))"
   ]
  },
  {
   "cell_type": "code",
   "execution_count": 217,
   "metadata": {},
   "outputs": [],
   "source": [
    "df_scaled = pd.DataFrame(scaled, columns = train_df.columns.drop('Survived'))"
   ]
  },
  {
   "cell_type": "code",
   "execution_count": 218,
   "metadata": {},
   "outputs": [],
   "source": [
    "X = df_scaled\n",
    "y = train_df['Survived']\n",
    "X_test = test_df.copy()\n",
    "from sklearn.model_selection import train_test_split\n",
    "X_train, X_test, y_train, y_test = train_test_split(X, y, test_size = 0.2)"
   ]
  },
  {
   "cell_type": "markdown",
   "metadata": {},
   "source": [
    "## 2.2 successful training "
   ]
  },
  {
   "cell_type": "markdown",
   "metadata": {},
   "source": [
    "### Using KNN Model"
   ]
  },
  {
   "cell_type": "code",
   "execution_count": 219,
   "metadata": {},
   "outputs": [
    {
     "data": {
      "text/plain": [
       "KNeighborsClassifier(algorithm='auto', leaf_size=30, metric='minkowski',\n",
       "           metric_params=None, n_jobs=1, n_neighbors=2, p=2,\n",
       "           weights='uniform')"
      ]
     },
     "execution_count": 219,
     "metadata": {},
     "output_type": "execute_result"
    }
   ],
   "source": [
    "knn = KNeighborsClassifier(n_neighbors=2)\n",
    "knn.fit(X, y)\n"
   ]
  },
  {
   "cell_type": "code",
   "execution_count": 220,
   "metadata": {},
   "outputs": [],
   "source": [
    "y_pred = knn.predict(X_test)"
   ]
  },
  {
   "cell_type": "markdown",
   "metadata": {},
   "source": [
    "# Step 3 . Model Evaluation"
   ]
  },
  {
   "cell_type": "markdown",
   "metadata": {},
   "source": [
    "## 3.1 Explain experimental design"
   ]
  },
  {
   "cell_type": "markdown",
   "metadata": {},
   "source": [
    "###  Confusion matrix"
   ]
  },
  {
   "cell_type": "code",
   "execution_count": 221,
   "metadata": {},
   "outputs": [
    {
     "name": "stdout",
     "output_type": "stream",
     "text": [
      "TP: 42\n",
      "TN: 106\n",
      "FP: 4\n",
      "FN: 27\n"
     ]
    }
   ],
   "source": [
    "#Accuracy, classification_report, confusion_matrix\n",
    "from sklearn.metrics import accuracy_score,classification_report,confusion_matrix\n",
    "confusion = confusion_matrix(y_test, y_pred)\n",
    "TP = confusion[1, 1]\n",
    "TN = confusion[0, 0]\n",
    "FP = confusion[0, 1]\n",
    "FN = confusion[1, 0]\n",
    "print (\"TP:\", TP)\n",
    "print (\"TN:\", TN)\n",
    "print (\"FP:\", FP)\n",
    "print (\"FN:\", FN)"
   ]
  },
  {
   "cell_type": "markdown",
   "metadata": {},
   "source": [
    "### Classification Accuracy"
   ]
  },
  {
   "cell_type": "code",
   "execution_count": 222,
   "metadata": {},
   "outputs": [
    {
     "name": "stdout",
     "output_type": "stream",
     "text": [
      "0.8268156424581006\n"
     ]
    }
   ],
   "source": [
    "print ((TP+TN) / float(TP+TN+FN+FP))\n",
    "accuracy = accuracy_score(y_test,y_pred)"
   ]
  },
  {
   "cell_type": "markdown",
   "metadata": {},
   "source": [
    "### Classification Error"
   ]
  },
  {
   "cell_type": "code",
   "execution_count": 223,
   "metadata": {},
   "outputs": [
    {
     "name": "stdout",
     "output_type": "stream",
     "text": [
      "0.17318435754189945\n"
     ]
    }
   ],
   "source": [
    "print ((FP+FN) / float(TP+TN+FN+FP))\n",
    "error = 1-accuracy_score(y_test, y_pred)"
   ]
  },
  {
   "cell_type": "markdown",
   "metadata": {},
   "source": [
    "###  ROC Curves"
   ]
  },
  {
   "cell_type": "code",
   "execution_count": 224,
   "metadata": {},
   "outputs": [],
   "source": [
    "from sklearn import metrics\n",
    "def plot_roc_curve(fpr, tpr, label= None):\n",
    "    threshold = 0.5\n",
    "    plt.figure(figsize = (12,5))\n",
    "    plt.plot(fpr, tpr, label = label)\n",
    "    plt.axis([0, 1, 0, 1])\n",
    "    plt.xlabel('False Positive Rate')\n",
    "    plt.ylabel('True Positive Rate')\n",
    "    plt.title('ROC Curve')\n",
    "    plt.show()   "
   ]
  },
  {
   "cell_type": "markdown",
   "metadata": {},
   "source": [
    "## 3.2 Evaluation results"
   ]
  },
  {
   "cell_type": "markdown",
   "metadata": {},
   "source": [
    "### Result of Confusion matrix and accuracy"
   ]
  },
  {
   "cell_type": "code",
   "execution_count": 225,
   "metadata": {},
   "outputs": [
    {
     "name": "stdout",
     "output_type": "stream",
     "text": [
      "[[106   4]\n",
      " [ 27  42]]\n",
      "Accuracy: 0.8268156424581006\n",
      "Error: 0.17318435754189943\n",
      "             precision    recall  f1-score   support\n",
      "\n",
      "          0       0.80      0.96      0.87       110\n",
      "          1       0.91      0.61      0.73        69\n",
      "\n",
      "avg / total       0.84      0.83      0.82       179\n",
      "\n"
     ]
    }
   ],
   "source": [
    "print(confusion)\n",
    "print(\"Accuracy: \"+ str(accuracy))\n",
    "print(\"Error: \"+ str(error))\n",
    "print(classification_report(y_test, y_pred))  "
   ]
  },
  {
   "cell_type": "markdown",
   "metadata": {},
   "source": [
    "### Result of ROC curve "
   ]
  },
  {
   "cell_type": "code",
   "execution_count": 226,
   "metadata": {},
   "outputs": [
    {
     "data": {
      "image/png": "[encoded data removed]",
      "text/plain": [
       "<Figure size 864x360 with 1 Axes>"
      ]
     },
     "metadata": {},
     "output_type": "display_data"
    },
    {
     "name": "stdout",
     "output_type": "stream",
     "text": [
      "AUC Score:\n",
      " 0.7861660079051384\n"
     ]
    }
   ],
   "source": [
    "fpr, tpr, thresholds = metrics.roc_curve(y_test, y_pred)\n",
    "plot_roc_curve(fpr, tpr)\n",
    "plt.show()\n",
    "print(\"AUC Score:\\n\",metrics.roc_auc_score(y_test, y_pred))"
   ]
  },
  {
   "cell_type": "markdown",
   "metadata": {},
   "source": [
    "# Extra"
   ]
  },
  {
   "cell_type": "markdown",
   "metadata": {},
   "source": [
    "### Train new models via KNN"
   ]
  },
  {
   "cell_type": "code",
   "execution_count": 227,
   "metadata": {},
   "outputs": [
    {
     "name": "stdout",
     "output_type": "stream",
     "text": [
      "k = 1, score = [0.69196429 0.73542601 0.6981982  0.71621622], mean = 0.7104511772743275\n",
      "Accuracy: 0.8268156424581006, AUC Score: 0.7861660079051384\n",
      "k = 2, score = [0.74107143 0.80269058 0.79279279 0.8018018 ], mean = 0.7845891515314161\n",
      "Accuracy: 0.8268156424581006, AUC Score: 0.7861660079051384\n",
      "k = 3, score = [0.78571429 0.81165919 0.75225225 0.76126126], mean = 0.7777217480132278\n",
      "Accuracy: 0.8268156424581006, AUC Score: 0.7861660079051384\n",
      "k = 4, score = [0.77678571 0.8206278  0.78828829 0.8018018 ], mean = 0.796875901766597\n",
      "Accuracy: 0.8268156424581006, AUC Score: 0.7861660079051384\n",
      "k = 5, score = [0.79017857 0.8206278  0.82432432 0.82882883], mean = 0.815989881818077\n",
      "Accuracy: 0.8268156424581006, AUC Score: 0.7861660079051384\n",
      "k = 6, score = [0.79910714 0.8206278  0.78828829 0.81531532], mean = 0.8058346372878323\n",
      "Accuracy: 0.8268156424581006, AUC Score: 0.7861660079051384\n",
      "k = 7, score = [0.76785714 0.81165919 0.8018018  0.81981982], mean = 0.8002844893259692\n",
      "Accuracy: 0.8268156424581006, AUC Score: 0.7861660079051384\n",
      "k = 8, score = [0.76339286 0.81165919 0.79279279 0.81531532], mean = 0.7957900395190193\n",
      "Accuracy: 0.8268156424581006, AUC Score: 0.7861660079051384\n",
      "k = 9, score = [0.77232143 0.80717489 0.80630631 0.83333333], mean = 0.8047839890258612\n",
      "Accuracy: 0.8268156424581006, AUC Score: 0.7861660079051384\n",
      "k = 10, score = [0.78125    0.81165919 0.78828829 0.84234234], mean = 0.8058849558639357\n",
      "Accuracy: 0.8268156424581006, AUC Score: 0.7861660079051384\n",
      "k = 11, score = [0.78571429 0.8206278  0.8018018  0.83333333], mean = 0.810369305885001\n",
      "Accuracy: 0.8268156424581006, AUC Score: 0.7861660079051384\n",
      "k = 12, score = [0.78125    0.82511211 0.79279279 0.83333333], mean = 0.8081220584373612\n",
      "Accuracy: 0.8268156424581006, AUC Score: 0.7861660079051384\n",
      "k = 13, score = [0.77678571 0.82959641 0.7972973  0.82882883], mean = 0.8081270632419736\n",
      "Accuracy: 0.8268156424581006, AUC Score: 0.7861660079051384\n",
      "k = 14, score = [0.80803571 0.84753363 0.79279279 0.83333333], mean = 0.820423868174709\n",
      "Accuracy: 0.8268156424581006, AUC Score: 0.7861660079051384\n",
      "k = 15, score = [0.8125     0.82959641 0.78378378 0.82432432], mean = 0.8125511301660404\n",
      "Accuracy: 0.8268156424581006, AUC Score: 0.7861660079051384\n",
      "k = 16, score = [0.82142857 0.82959641 0.78828829 0.82432432], mean = 0.8159093991493094\n",
      "Accuracy: 0.8268156424581006, AUC Score: 0.7861660079051384\n",
      "k = 17, score = [0.80803571 0.83856502 0.7972973  0.82432432], mean = 0.8170555895822151\n",
      "Accuracy: 0.8268156424581006, AUC Score: 0.7861660079051384\n",
      "k = 18, score = [0.80803571 0.82511211 0.77927928 0.83333333], mean = 0.8114401086304114\n",
      "Accuracy: 0.8268156424581006, AUC Score: 0.7861660079051384\n",
      "k = 19, score = [0.77678571 0.82511211 0.78828829 0.82432432], mean = 0.8036276086304113\n",
      "Accuracy: 0.8268156424581006, AUC Score: 0.7861660079051384\n",
      "k = 20, score = [0.80357143 0.82511211 0.77027027 0.81981982], mean = 0.8046934065712092\n",
      "Accuracy: 0.8268156424581006, AUC Score: 0.7861660079051384\n",
      "k = 21, score = [0.79017857 0.82959641 0.76576577 0.81981982], mean = 0.8013401423925527\n",
      "Accuracy: 0.8268156424581006, AUC Score: 0.7861660079051384\n",
      "k = 22, score = [0.79910714 0.83408072 0.77027027 0.82432432], mean = 0.8069456137351316\n",
      "Accuracy: 0.8268156424581006, AUC Score: 0.7861660079051384\n",
      "k = 23, score = [0.79017857 0.83408072 0.77927928 0.82882883], mean = 0.8080918492563672\n",
      "Accuracy: 0.8268156424581006, AUC Score: 0.7861660079051384\n",
      "k = 24, score = [0.80357143 0.83408072 0.77927928 0.81981982], mean = 0.8091878112898292\n",
      "Accuracy: 0.8268156424581006, AUC Score: 0.7861660079051384\n",
      "k = 25, score = [0.79464286 0.8161435  0.78828829 0.81981982], mean = 0.8047236157522032\n",
      "Accuracy: 0.8268156424581006, AUC Score: 0.7861660079051384\n",
      "k = 26, score = [0.80357143 0.82959641 0.77477477 0.8018018 ], mean = 0.8024361044260147\n",
      "Accuracy: 0.8268156424581006, AUC Score: 0.7861660079051384\n",
      "k = 27, score = [0.79464286 0.8206278  0.77477477 0.7972973 ], mean = 0.7968356829763781\n",
      "Accuracy: 0.8268156424581006, AUC Score: 0.7861660079051384\n",
      "k = 28, score = [0.79464286 0.8206278  0.77927928 0.7972973 ], mean = 0.7979618091025042\n",
      "Accuracy: 0.8268156424581006, AUC Score: 0.7861660079051384\n",
      "k = 29, score = [0.79910714 0.80717489 0.77477477 0.79279279], mean = 0.7934623995792718\n",
      "Accuracy: 0.8268156424581006, AUC Score: 0.7861660079051384\n",
      "k = 30, score = [0.79910714 0.8161435  0.77477477 0.8018018 ], mean = 0.7979568042978917\n",
      "Accuracy: 0.8268156424581006, AUC Score: 0.7861660079051384\n",
      "k = 31, score = [0.8125     0.80269058 0.77027027 0.7972973 ], mean = 0.7956895376318022\n",
      "Accuracy: 0.8268156424581006, AUC Score: 0.7861660079051384\n",
      "k = 32, score = [0.79910714 0.80269058 0.77477477 0.79279279], mean = 0.7923413233460879\n",
      "Accuracy: 0.8268156424581006, AUC Score: 0.7861660079051384\n",
      "k = 33, score = [0.79464286 0.80269058 0.77027027 0.7972973 ], mean = 0.7912252519175165\n",
      "Accuracy: 0.8268156424581006, AUC Score: 0.7861660079051384\n",
      "k = 34, score = [0.79017857 0.80269058 0.77027027 0.8018018 ], mean = 0.7912353066150712\n",
      "Accuracy: 0.8268156424581006, AUC Score: 0.7861660079051384\n",
      "k = 35, score = [0.79017857 0.80717489 0.77027027 0.7972973 ], mean = 0.7912302567221289\n",
      "Accuracy: 0.8268156424581006, AUC Score: 0.7861660079051384\n",
      "k = 36, score = [0.79464286 0.8206278  0.77027027 0.7972973 ], mean = 0.7957095568502519\n",
      "Accuracy: 0.8268156424581006, AUC Score: 0.7861660079051384\n",
      "k = 37, score = [0.79464286 0.8206278  0.76576577 0.7972973 ], mean = 0.7945834307241257\n",
      "Accuracy: 0.8268156424581006, AUC Score: 0.7861660079051384\n",
      "k = 38, score = [0.79910714 0.8206278  0.77027027 0.7972973 ], mean = 0.7968256282788234\n",
      "Accuracy: 0.8268156424581006, AUC Score: 0.7861660079051384\n",
      "k = 39, score = [0.79017857 0.8206278  0.76576577 0.7972973 ], mean = 0.7934673592955543\n",
      "Accuracy: 0.8268156424581006, AUC Score: 0.7861660079051384\n",
      "k = 40, score = [0.78571429 0.8206278  0.77027027 0.7972973 ], mean = 0.7934774139931091\n",
      "Accuracy: 0.8268156424581006, AUC Score: 0.7861660079051384\n",
      "k = 41, score = [0.79017857 0.8206278  0.78378378 0.7972973 ], mean = 0.7979718638000589\n",
      "Accuracy: 0.8268156424581006, AUC Score: 0.7861660079051384\n",
      "k = 42, score = [0.78571429 0.8161435  0.78378378 0.7972973 ], mean = 0.7957347161383036\n",
      "Accuracy: 0.8268156424581006, AUC Score: 0.7861660079051384\n",
      "k = 43, score = [0.78571429 0.81165919 0.78378378 0.7972973 ], mean = 0.7946136399051198\n",
      "Accuracy: 0.8268156424581006, AUC Score: 0.7861660079051384\n",
      "k = 44, score = [0.79017857 0.8161435  0.78378378 0.8018018 ], mean = 0.797976913693001\n",
      "Accuracy: 0.8268156424581006, AUC Score: 0.7861660079051384\n",
      "k = 45, score = [0.79017857 0.8161435  0.78378378 0.8018018 ], mean = 0.797976913693001\n",
      "Accuracy: 0.8268156424581006, AUC Score: 0.7861660079051384\n",
      "k = 46, score = [0.79464286 0.8161435  0.78828829 0.8018018 ], mean = 0.8002191112476986\n",
      "Accuracy: 0.8268156424581006, AUC Score: 0.7861660079051384\n",
      "k = 47, score = [0.79017857 0.8161435  0.78828829 0.8018018 ], mean = 0.7991030398191272\n",
      "Accuracy: 0.8268156424581006, AUC Score: 0.7861660079051384\n",
      "k = 48, score = [0.79910714 0.8161435  0.78828829 0.7972973 ], mean = 0.8002090565501441\n",
      "Accuracy: 0.8268156424581006, AUC Score: 0.7861660079051384\n",
      "k = 49, score = [0.79464286 0.81165919 0.78828829 0.8018018 ], mean = 0.7990980350145149\n",
      "Accuracy: 0.8268156424581006, AUC Score: 0.7861660079051384\n"
     ]
    }
   ],
   "source": [
    "from sklearn.neighbors import KNeighborsClassifier\n",
    "clf=KNeighborsClassifier(n_neighbors=5)\n",
    "clf.fit(X, y)\n",
    "\n",
    "from sklearn.neighbors import KNeighborsClassifier\n",
    "from sklearn.model_selection import cross_val_score\n",
    "\n",
    "k_range = range(1,50)\n",
    "k_scores = []\n",
    "for k in k_range:\n",
    "    knn=KNeighborsClassifier(n_neighbors=k)\n",
    "    scores = cross_val_score(knn, X, y, cv = 4, scoring='accuracy')\n",
    "    print(\"k = \" + str(k) + \", score = \" + str(scores) + \", mean = \" +  str(scores.mean())+\"\\n\"+\"Accuracy: \"+str(accuracy_score(y_test,y_pred)) \n",
    "          +\", AUC Score:\",metrics.roc_auc_score(y_test, y_pred))\n",
    "    k_scores.append(scores.mean())"
   ]
  },
  {
   "cell_type": "markdown",
   "metadata": {},
   "source": [
    "### Compare different models"
   ]
  },
  {
   "cell_type": "code",
   "execution_count": 228,
   "metadata": {},
   "outputs": [
    {
     "data": {
      "image/png": "[encoded data removed]",
      "text/plain": [
       "<Figure size 432x288 with 1 Axes>"
      ]
     },
     "metadata": {},
     "output_type": "display_data"
    }
   ],
   "source": [
    "plt.plot(k_range, k_scores)\n",
    "plt.xlabel('K for KNN')\n",
    "plt.ylabel('Cross Validation Accuracy')\n",
    "plt.show()"
   ]
  }
 ],
 "metadata": {
  "kernelspec": {
   "display_name": "Python 3",
   "language": "python",
   "name": "python3"
  },
  "language_info": {
   "codemirror_mode": {
    "name": "ipython",
    "version": 3
   },
   "file_extension": ".py",
   "mimetype": "text/x-python",
   "name": "python",
   "nbconvert_exporter": "python",
   "pygments_lexer": "ipython3",
   "version": "3.6.5"
  }
 },
 "nbformat": 4,
 "nbformat_minor": 2
}
